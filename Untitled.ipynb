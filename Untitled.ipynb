{
  "metadata": {
    "kernelspec": {
      "name": "python",
      "display_name": "Python (Pyodide)",
      "language": "python"
    },
    "language_info": {
      "codemirror_mode": {
        "name": "python",
        "version": 3
      },
      "file_extension": ".py",
      "mimetype": "text/x-python",
      "name": "python",
      "nbconvert_exporter": "python",
      "pygments_lexer": "ipython3",
      "version": "3.8"
    }
  },
  "nbformat_minor": 5,
  "nbformat": 4,
  "cells": [
    {
      "id": "11e814dc-867b-423c-a3e1-c518188f24b0",
      "cell_type": "raw",
      "source": "Python Basics Questions",
      "metadata": {}
    },
    {
      "id": "ffa63079-8203-46cf-8159-4597ba1d4d0b",
      "cell_type": "code",
      "source": "# What is python, and why is it popular?\n    #\tPython is a popular programming language because it is easy to learn, versatile and efficient. It is used in many fields, like web development, data science, and machine learning.\n    # Python is popular because \n        # It is easy to learn.\n        # It is more versatile like in web development, data analysis and machine learning.\n        # Much efficient because easy code can do complex tasks.\n        # Having many open sources so it is free to use and distribute, eve for commercial purpose.\n        # Portable means it can run in many different platforms.",
      "metadata": {
        "trusted": true
      },
      "outputs": [],
      "execution_count": null
    },
    {
      "id": "6087459e-f16e-4b23-bdf3-d24f4dba5284",
      "cell_type": "code",
      "source": "# What is an interpreter in Python?\n    # Interpreter is a computer program that converts each high-level program statement into machine code. An interpreter translates the command that you write out into code that the computer can understand.",
      "metadata": {
        "trusted": true
      },
      "outputs": [],
      "execution_count": null
    },
    {
      "id": "cdf3414b-175f-4ea4-99d0-1a1b0f8ec664",
      "cell_type": "code",
      "source": "# What are pre-defined keywords in Python?\n    # In Python, predefined keywords are special identifiers that have specific meanings and purpose in the language. These keywords cannot be used as variable name, function names, or any other identifiers.\n    # Some common Examples of Pre-defined keywords of Python are as follows \n        # 1. True \n        # 2. False\n        # 3. And\n        # 4. if\n        # 5. else\n        # 6. elif\n        # 7. for\n        # 8. continue \n        # 9. or\n        # 10. try",
      "metadata": {
        "trusted": true
      },
      "outputs": [],
      "execution_count": null
    },
    {
      "id": "1af2ca56-bf45-4529-a3a2-844805ce2f6a",
      "cell_type": "code",
      "source": "# Can keywords be used as variable names?\n    # In Python we cannot use keywords as a variable name. Since they are reserved by the language, they have special meaning and are essential for the syntax and functionality of Python programs.",
      "metadata": {
        "trusted": true
      },
      "outputs": [],
      "execution_count": null
    },
    {
      "id": "ede75257-4352-4191-a991-7c10a966a6a8",
      "cell_type": "code",
      "source": "# What is mutability in python?\n    # In Python, mutability refers to the ability of an object to be changed after it is created.\n    # Mutable objects can be changed in place, meaning their content or state can be modified without creating a new object.\n    # Immutable objects cannot be modified once they are created. And operation that attempts to modify an immutable object result in the creation of a new object.",
      "metadata": {
        "trusted": true
      },
      "outputs": [],
      "execution_count": null
    },
    {
      "id": "43b99427-09ec-475f-b7b8-5a7a05ab63a1",
      "cell_type": "code",
      "source": "# Why are list mutable, but tuples are immutable?\n    # Lists are mutable because they are designed for dynamic collections where the contents may change over time.\n    # Tuples are immutable to provide data integrity, allow then to be used as dictionary keys, and optimize memory usage.",
      "metadata": {
        "trusted": true
      },
      "outputs": [],
      "execution_count": null
    },
    {
      "id": "a522b96b-0e23-4786-a517-90a5b259537a",
      "cell_type": "code",
      "source": "# What is the difference between “==”” and “is” operators in Python?\n    # Both “==” and “is” operators are used for comparison, but they have different purpose.\n    # The “==” operator is used to compare the values of two objects to see if they are equal or not. It checks if the contents of the objects are the same, regardless of whether they are the same object in memory or not.\n    # The “is” operator is used to compare the identity of two objects, i.e., whether they refer to the same object in memory. It checks if both variables point to the exact same memory location i.e., they are the same object or not.",
      "metadata": {
        "trusted": true
      },
      "outputs": [],
      "execution_count": null
    },
    {
      "id": "88518a6a-0b9e-4700-acb2-c4e1ef2eb5d9",
      "cell_type": "code",
      "source": "# What are logical operators in Python?\n    # In Python, logical operators are used to combine conditional statements or evaluate multiple conditions. They help you make decision based on multiple conditions or values.\n    # There are three main logical operators in Python:\n        # 1. AND – The and operator returns True if both condition on either side of the operator are True. If either or both of the conditions are False, the result will be False.\n        # 2. OR – The or operator returns True if at least one of the conditions is True. It only returns False if both conditions are False.\n        # 3. NOT – The not operator is used to invest the Boolean value of a condition. If a condition is True, not will return False, and if the condition is False, it will return True. ",
      "metadata": {
        "trusted": true
      },
      "outputs": [],
      "execution_count": null
    },
    {
      "id": "52ed1f60-c0ba-4083-8965-3e348b091842",
      "cell_type": "code",
      "source": "# What is type costing in Python?\n    # Type casting is the process of converting one data type into another. Python provides several built-in functions to convert data between types. This can be done explicitly or implicitly.\n        # 1. Implicit Type Casting – Python automatically converts data one type to another when it is safe to do so. This is known as implicit type casting or automatic type conversion.\n        # 2. Explicit Type Casting – You can manually convert one data type to another using type casting function. This is known as explicit type casting.",
      "metadata": {
        "trusted": true
      },
      "outputs": [],
      "execution_count": null
    },
    {
      "id": "066223c1-9c88-4c96-b09e-79238abdfca8",
      "cell_type": "code",
      "source": "# What is the difference between implicit and explicit type casting?\n    # In Python, Implicit type casting and explicit type casting refers to two different ways of converting data from one type to another. \n    # Implicit Type Casting – Implicit type casting is when Python automatically converts one data type to another without the programmer needing to specify the conversion. This is done when Python determine that it is safe and logical to perform the conversion. It typically happens when you preform operation between two values of different types, and Python knows how to automatically convert one type to another without losing any data or meaning.\n    # Explicit Type Casting – Explicit type casting is when the programmer manually converts a value from one data type to another using built-in function such as int(), float(), str(), etc. This is done when the programmer specifically wants to change the type of a value.",
      "metadata": {
        "trusted": true
      },
      "outputs": [],
      "execution_count": null
    },
    {
      "id": "a3378aac-c2b6-4067-9605-b0c34724f515",
      "cell_type": "code",
      "source": "# What is the purpose of conditional statements in Python?\n    # Conditional statement in Python like if, elif, else etc. Are used to execute different blocks of codes based on whether certain conditions are True or False. These statements help to make decision in the codes, allowing the program to behave depending on the situation.\n    # Purpose of Conditional statement in Python\n        # 1. Decision Making: Conditional statements allow the program to make decisions and execute different parts of code depending on certain conditions. This is essential for implementing logic, controlling the flow of a program, and making it respond to different inputs.\n        # 2. Control Flow: They control the flow of execution, allowing a program to branch into different paths. The program can follow one path if a condition is true and another if it's false.\n        # 3. Flexibility: Conditional statements help make your code more flexible and dynamic. Depending on input, user choice, or data conditions, the program can take various actions.\n        # 4. Error Handling: They can also be used for error checking or validation of inputs, ensuring that the program responds appropriately when unexpected conditions occur.",
      "metadata": {
        "trusted": true
      },
      "outputs": [],
      "execution_count": null
    },
    {
      "id": "b4390891-2292-4c82-bc8f-f0fe67e59fd9",
      "cell_type": "code",
      "source": "# How does the elif statement work?\n    # The elif statement in Python is short for “else if” and is used to check additional conditions if the initial if condition I s False. It allows you to check multiple conditions sequentially. Once a condition evaluates to True, the corresponding block is executed, and the rest of the elif or else blocks are skipped.\n        # 1. First the if condition is checked. \n            # a. If the if condition is True, the block of code under the if is executed, and no further elif or else conditions are checked.\n            # b. If the if condition is False, Python checks the conditions in any subsequent elif statements, in the order they appear.\n        # 2. Each elif condition is checked only if all previous conditions (if and any preceding elif) are False.\n        # 3. If one of the elif conditions is True, the block of code under that elif is executed, and the rest of the elif and else statements are skipped.\n        # 4. The else block, if present, is executed if none of the if or elif conditions are True.",
      "metadata": {
        "trusted": true
      },
      "outputs": [],
      "execution_count": null
    },
    {
      "id": "9024dda0-4de8-4ec2-87dc-adf0f9d504cf",
      "cell_type": "code",
      "source": "# What is the difference between for and while loops?\n    # The main difference between for and while loops in Python lies in how they control the flow of iteration:\n    # for Loop:\n        # 1. Purpose: The for loop is used to iterate over a sequence (like a list, tuple, string, or range) or other iterable objects.\n        # 2. How it works: It automatically iterates through each item in the sequence, executing the block of code for each item.\n        # 3. Best Use Case: It's ideal when the number of iterations is known beforehand or when iterating over a collection of items (e.g., a list of numbers, characters, etc.).\n    # while Loop:\n        # 1. Purpose: The while loop continues to execute a block of code as long as a condition is True.\n        # 2. How it works: It checks the condition before each iteration, and as long as the condition remains True, the loop will continue running.\n        # 3. Best Use Case: It's ideal when the number of iterations is unknown or depends on a condition that can change during the execution (like reading user input, checking a flag, or waiting for a specific event).",
      "metadata": {
        "trusted": true
      },
      "outputs": [],
      "execution_count": null
    },
    {
      "id": "ba4fe32f-aee5-4ae7-8f29-0e88c1d01a3a",
      "cell_type": "code",
      "source": "# Describe a scenario where a while loop is more suitable than a for loop.\n    # A while loop is more suitable than a for loop when the number of literation is not known beforehand and the loop should continue based on a condition being true.\n    # Example – Imagine you're writing a program that monitors a user’s input to check if they have entered a valid password. The loop should keep asking the user for a password until it meets the specified criteria (e.g., the password is at least 8 characters long). Since you don't know how many times it will take for the user to input a valid password, a while loop is ideal.",
      "metadata": {
        "trusted": true
      },
      "outputs": [],
      "execution_count": null
    },
    {
      "id": "72ad6a1a-f706-4adb-942b-bf41e98f2d2a",
      "cell_type": "raw",
      "source": "Practical Questions",
      "metadata": {}
    },
    {
      "id": "e763346d-0a14-4329-afe1-161123e8cbcc",
      "cell_type": "code",
      "source": "# Write a Python program to print \"Hello, World!\"\n    print(\"Hello, World!\")",
      "metadata": {
        "trusted": true
      },
      "outputs": [],
      "execution_count": null
    },
    {
      "id": "30d4fc4a-b9b6-4521-96ef-c27bfd1741a2",
      "cell_type": "code",
      "source": "# Write a Python program that displays your name and age.\nname = \"Ashish Kumar\"  \nage = 28 \nprint(\"Name:\", name)\nprint(\"Age:\", age)",
      "metadata": {
        "trusted": true
      },
      "outputs": [],
      "execution_count": null
    },
    {
      "id": "8fa24053-118a-450a-805f-5d49074339a6",
      "cell_type": "code",
      "source": "# Write code to print all the pre-defined keywords in Python using the keyword library.\nimport keyword\nprint(\"Python Keywords:\")\nprint(keyword.kwlist)",
      "metadata": {
        "trusted": true
      },
      "outputs": [],
      "execution_count": null
    },
    {
      "id": "ab8ff776-114a-4797-9371-f5a2aee928e1",
      "cell_type": "code",
      "source": "# Write a program that checks if a given words is a Python keyword.\nimport keyword\ndef check_keyword(word):\n    if keyword.iskeyword(word):\n        print(f\"'{word}' is a Python keyword.\")\n    else:\n        print(f\"'{word}' is not a Python keyword.\")\nword = input(\"Enter a word to check if it's a Python keyword: \")",
      "metadata": {
        "trusted": true
      },
      "outputs": [],
      "execution_count": null
    },
    {
      "id": "78553896-2c34-491c-87e4-6f22cf9afa76",
      "cell_type": "code",
      "source": "# Create a list and tuple in Python, and demonstrate how attempting to change an element works differently for each.\nmy_list = [1, 2, 3, 4, 5]\nmy_tuple = (1, 2, 3, 4, 5)\nprint(\"Original List:\", my_list)\nmy_list[2] = 10 \nprint(\"Modified List:\", my_list)\nprint(\"\\nOriginal Tuple:\", my_tuple)\n my_tuple[2] = 10\nprint(f\"Error: {e} - Cannot change an element in a tuple.\")",
      "metadata": {
        "trusted": true
      },
      "outputs": [],
      "execution_count": null
    },
    {
      "id": "df159eff-cd55-47df-952c-5e347ade6c0d",
      "cell_type": "code",
      "source": "# Write a function to demonstrate the behavior of mutable and immutabel arguments.\ndef demonstrate_mutable_immutable():\n    num = 10\n     my_list = [1, 2, 3]\n    print(\"Before modifying:\")\n    print(f\"num (immutable): {num}\")\n    print(f\"my_list (mutable): {my_list}\")\n  def modify_immutable(n):\n      n += 5 \n       print(f\"Inside modify_immutable: {n}\")\ndef modify_mutable(lst):\n    lst.append(4)\n    print(f\"Inside modify_mutable: {lst}\")\nprint(\"\\nAfter modifying:\")\nprint(f\"num (immutable): {num}\")\nprint(f\"my_list (mutable): {my_list}\")",
      "metadata": {
        "trusted": true
      },
      "outputs": [],
      "execution_count": null
    },
    {
      "id": "51c4d62e-b09a-4a26-89ce-357c445b0d9b",
      "cell_type": "code",
      "source": "# Write a program to demostrate the use of logical operators.\ndef logical_operators_demo():\n    a = 10\n    b = 20\n    c = 5\n    d = 0\nprint(\"Logical AND (a > b and b > c):\", a > b and b > c) \nprint(\"Logical OR (a < b or c > d):\", a < b or c > d)\nprint(\"Logical NOT (not d):\", not d)\nprint(\"Combined (a > b and b > c or c > d):\", a > b and b > c or c > d) \n",
      "metadata": {
        "trusted": true
      },
      "outputs": [],
      "execution_count": null
    },
    {
      "id": "1a1841a3-46a9-4e0a-8acc-d98055e95027",
      "cell_type": "code",
      "source": "# Write a python program to convert user input from string to integer, float, boolean types.\ndef convert_input():\n    user_input = input(\"Enter a value: \")\n        try:\n            int_value = int(user_input)\n            print(f\"Converted to integer: {int_value}\")\n        except ValueError:\n            print(\"Cannot convert to integer.\")\n        try:\n            float_value = float(user_input)\n            print(f\"Converted to float: {float_value}\")\n        except ValueError:\n            print(\"Cannot convert to float.\")\n        if user_input.lower() in ['true', '1', 'yes']:\n        bool_value = True\n            elif user_input.lower() in ['false', '0', 'no']:\n        bool_value = False\n            else:\n        bool_value = bool(user_input)  # Treats non-empty strings as True\n    print(f\"Converted to boolean: {bool_value}\")",
      "metadata": {
        "trusted": true
      },
      "outputs": [],
      "execution_count": null
    },
    {
      "id": "73d6a871-50a7-40fa-b6ee-d705f4ac70b2",
      "cell_type": "code",
      "source": "# Write code to demostrate type casting with list elements.\ndef type_casting_demo():\n    mixed_list = [\"123\", \"45.67\", \"True\", 1, 0, \"0\", True, False]\n    print(\"Original List:\", mixed_list)\n    int_list = [int(i) if i.isdigit() else 0 for i in mixed_list if isinstance(i, str)]\n    float_list = [float(i) if i.replace('.', '', 1).isdigit() else 0.0 for i in mixed_list if isinstance(i, str)]\n     bool_to_int = [int(i) if isinstance(i, bool) else i for i in mixed_list]\n\nprint(\"\\nList after type casting (String to Integer):\", int_list)\nprint(\"List after type casting (String to Float):\", float_list)\nprint(\"List after type casting (Boolean to Integer):\", bool_to_int)",
      "metadata": {
        "trusted": true
      },
      "outputs": [],
      "execution_count": null
    },
    {
      "id": "be32aae2-ddad-482f-9382-761aeeaf7335",
      "cell_type": "code",
      "source": "# Write a program that checks if a number is positive, negative, or zero.\n  number = float(input(\"Enter a number: \"))\nif number > 0:\n    print(f\"{number} is a positive number.\")\nelif number < 0:\n    print(f\"{number} is a negative number.\")\nelse:\n    print(f\"{number} is zero.\")\ncheck_number()",
      "metadata": {
        "trusted": true
      },
      "outputs": [],
      "execution_count": null
    },
    {
      "id": "6939118e-349c-4a5e-93fc-645b152c9e80",
      "cell_type": "code",
      "source": "# Write a for loop to print number from 1 to 10.\nfor number in range(1, 11):\n    print(number)",
      "metadata": {
        "trusted": true
      },
      "outputs": [],
      "execution_count": null
    },
    {
      "id": "523e0d26-3239-4ef9-9268-9566c6e61a52",
      "cell_type": "code",
      "source": "# Write a Python program to find the sum of all even numbers between 1 and 50. \nsum_of_evens = 0\nfor number in range(1, 51):\n     if number % 2 == 0:\n         sum_of_evens += number \n\nprint(\"Sum of all even numbers between 1 and 50:\", sum_of_evens)",
      "metadata": {
        "trusted": true
      },
      "outputs": [],
      "execution_count": null
    },
    {
      "id": "9e312b99-9c27-4ffa-8c18-664f8fb27eea",
      "cell_type": "code",
      "source": "# Write a program to reverse a string using a while loop.\ndef reverse_string():\n    original_string = input(\"Enter a string: \")\n    reversed_string = \"\"\n    index = len(original_string) - 1\n    while index >= 0:\n        reversed_string += original_string[index]\n        index -= 1\n\n  print(\"Reversed string:\", reversed_string)",
      "metadata": {
        "trusted": true
      },
      "outputs": [],
      "execution_count": null
    },
    {
      "id": "1dd09603-7406-49f2-8777-277fe0f842af",
      "cell_type": "code",
      "source": "# write a Python program to calculate the factorial of a number provided by the user using a while loop.\ndef factorial():\n    num = int(input(\"Enter a number: \"))\n    result = 1\n    if num < 0:\n        print(\"Factorial is not defined for negative numbers.\")\n        return\n    while num > 0:\n        result *= num \n        num -= 1 \n   print(\"Factorial:\", result)\nfactorial()",
      "metadata": {
        "trusted": true
      },
      "outputs": [],
      "execution_count": null
    }
  ]
}